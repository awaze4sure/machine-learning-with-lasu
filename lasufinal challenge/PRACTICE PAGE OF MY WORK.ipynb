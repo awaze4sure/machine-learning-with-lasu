{
 "cells": [
  {
   "cell_type": "markdown",
   "metadata": {},
   "source": [
    "##### PRINTING IN PYTHON USING TRIPPLE QOUTES"
   ]
  },
  {
   "cell_type": "code",
   "execution_count": 1,
   "metadata": {},
   "outputs": [
    {
     "name": "stdout",
     "output_type": "stream",
     "text": [
      "There once was a movie star icon\n",
      "who preffered to sleep with the light on.\n",
      "They learned how to code \n",
      "a device that sure glowed\n",
      "and lit up the night using Python\n"
     ]
    }
   ],
   "source": [
    "print(\"\"\"There once was a movie star icon\n",
    "who preffered to sleep with the light on.\n",
    "They learned how to code \n",
    "a device that sure glowed\n",
    "and lit up the night using Python\"\"\")"
   ]
  },
  {
   "cell_type": "markdown",
   "metadata": {},
   "source": [
    "#### COLLECTION OF DATA FROM USERS"
   ]
  },
  {
   "cell_type": "code",
   "execution_count": 2,
   "metadata": {},
   "outputs": [
    {
     "name": "stdout",
     "output_type": "stream",
     "text": [
      "enter your nameaweda\n",
      "enter your last nameazeez\n",
      "your villageilorin\n",
      "age666\n",
      "enter your countrynigeria\n",
      " my name is  AWEDAAZEEZi lives inILORINmy age is 666am from NIGERIA located in africa iwant to say a little about mypast which is my biography i started my careerat lagos NIGERIA\n"
     ]
    }
   ],
   "source": [
    "firstName = input('enter your name')\n",
    "firstName = firstName.upper()\n",
    "lastName = input('enter your last name')\n",
    "lastName = lastName.upper()\n",
    "village = input('your village')\n",
    "village = village.upper()\n",
    "age = input('age')\n",
    "country = input('enter your country')\n",
    "country = country.upper()\n",
    "print(' my name is  '  + firstName   + lastName  + \n",
    "      'i lives in' + village + 'my age is ' + age + \n",
    "      'am from ' + country  + ' located in africa i' +\n",
    "      'want to say a little about my' +\n",
    "      'past which is my biography i started my career' \n",
    "      'at lagos ' + country)\n"
   ]
  },
  {
   "cell_type": "code",
   "execution_count": 3,
   "metadata": {},
   "outputs": [
    {
     "name": "stdout",
     "output_type": "stream",
     "text": [
      "what is your name? aweda\n",
      "my name is aweda\n"
     ]
    }
   ],
   "source": [
    "name = input('what is your name? ')\n",
    "print('my name is '+ name)"
   ]
  },
  {
   "cell_type": "markdown",
   "metadata": {},
   "source": [
    "#### CALCULATION OF AREA AND VOLUME OF A TRIANGLE\n",
    "#### IN DIFFERENT DECIMAL PLACES"
   ]
  },
  {
   "cell_type": "code",
   "execution_count": 4,
   "metadata": {},
   "outputs": [
    {
     "name": "stdout",
     "output_type": "stream",
     "text": [
      "35\n",
      "350\n",
      "24\n",
      "839.3142857142857\n",
      "1.4583333333333333\n"
     ]
    }
   ],
   "source": [
    "height = 5\n",
    "width = 7\n",
    "base = 10\n",
    "#calculate the area\n",
    "area = height * width\n",
    "#calculate the volume\n",
    "volume = height * width * base\n",
    "#calculate perimeter\n",
    "perimeter = 2*height + 2*width\n",
    "cop = area * perimeter - perimeter/area\n",
    "jar = area/perimeter\n",
    "print(area)\n",
    "print(volume)\n",
    "print(perimeter)\n",
    "print(cop)\n",
    "print(jar)"
   ]
  },
  {
   "cell_type": "code",
   "execution_count": 5,
   "metadata": {},
   "outputs": [
    {
     "name": "stdout",
     "output_type": "stream",
     "text": [
      "the area of what you entered is 00363\n",
      "the area of what you entered is 363.0000000000\n",
      "the area of what you entered is 363\n",
      "the area of what you entered is 3.630000e+02\n",
      "the area of what you entered is 4e+02\n"
     ]
    }
   ],
   "source": [
    "area = 0\n",
    "height = 33\n",
    "width = 22\n",
    "area = width * height/2\n",
    "# d is float\n",
    "print('the area of what you entered is %.5d'  %area)\n",
    "# f is decimal\n",
    "print('the area of what you entered is %.10f'  %area)\n",
    "\n",
    "print('the area of what you entered is %d'  %area)\n",
    "\n",
    "# still searching for the meaning of he\n",
    "print('the area of what you entered is %he'  %area)\n",
    "print('the area of what you entered is %.he'  %area)\n",
    "\n"
   ]
  },
  {
   "cell_type": "code",
   "execution_count": 6,
   "metadata": {},
   "outputs": [
    {
     "name": "stdout",
     "output_type": "stream",
     "text": [
      "my first number is  33 the second number is 41.000000 and the last number is  55 \n"
     ]
    }
   ],
   "source": [
    "print('my first number is {0:3d} the second number is {1:3f} and the last number is {2:3d} '.format(33, 41, 55))\n",
    "#this is examples of multiples numbers"
   ]
  },
  {
   "cell_type": "markdown",
   "metadata": {},
   "source": [
    "#### CALCULATOR FOR CALCULATING INTEREST OF A LOAN"
   ]
  },
  {
   "cell_type": "code",
   "execution_count": 7,
   "metadata": {},
   "outputs": [
    {
     "name": "stdout",
     "output_type": "stream",
     "text": [
      "enter amount to applied for:$ 60000\n",
      "enter the interest rate here:$ 0.05\n",
      "enter number of time to repay your loan: 22\n",
      "the amount as interest is 3135\n",
      "the amount as interest is 003135\n",
      "the amount as interest is 3e+03\n",
      "the amount as interest is 3135.75\n"
     ]
    }
   ],
   "source": [
    "L = float(input('enter amount to applied for:$ '))\n",
    "I = float(input('enter the interest rate here:$ '))\n",
    "N = float(input('enter number of time to repay your loan: '))\n",
    "A = L*(I*(1 + I)*N)\n",
    "B = ((1 + I)*N - 1)\n",
    "M = A/B\n",
    "print('the amount as interest is %.d' % M)\n",
    "print('the amount as interest is %.6d' % M)\n",
    "print('the amount as interest is %.he' % M)\n",
    "print('the amount as interest is %.2f' % M)"
   ]
  },
  {
   "cell_type": "markdown",
   "metadata": {},
   "source": [
    "#### DATE AND TIME FORMATS"
   ]
  },
  {
   "cell_type": "code",
   "execution_count": 8,
   "metadata": {},
   "outputs": [
    {
     "name": "stdout",
     "output_type": "stream",
     "text": [
      "2019-04-04\n"
     ]
    }
   ],
   "source": [
    "import datetime\n",
    "print(datetime.date.today())"
   ]
  },
  {
   "cell_type": "code",
   "execution_count": 9,
   "metadata": {},
   "outputs": [
    {
     "name": "stdout",
     "output_type": "stream",
     "text": [
      "2019-04-04\n"
     ]
    }
   ],
   "source": [
    "import datetime\n",
    "currentDate = datetime.date.today()\n",
    "print(currentDate)\n"
   ]
  },
  {
   "cell_type": "code",
   "execution_count": 10,
   "metadata": {},
   "outputs": [
    {
     "name": "stdout",
     "output_type": "stream",
     "text": [
      "2019-04-04\n",
      "2019\n",
      "4\n",
      "4\n"
     ]
    }
   ],
   "source": [
    "import datetime\n",
    "currentDate = datetime.date.today()\n",
    "print(currentDate)\n",
    "print(currentDate.year)\n",
    "print(currentDate.month)\n",
    "print(currentDate.day)"
   ]
  },
  {
   "cell_type": "code",
   "execution_count": 11,
   "metadata": {},
   "outputs": [
    {
     "name": "stdout",
     "output_type": "stream",
     "text": [
      "04 Apr, 2019\n",
      "04 Apr, 19\n",
      "Thursday Apr, 19\n"
     ]
    }
   ],
   "source": [
    "import datetime\n",
    "currentDate = datetime.date.today()\n",
    "print(currentDate.strftime('%d %b, %Y'))\n",
    "print(currentDate.strftime('%d %b, %y'))\n",
    "print(currentDate.strftime('%A %b, %y'))"
   ]
  },
  {
   "cell_type": "code",
   "execution_count": 12,
   "metadata": {},
   "outputs": [
    {
     "name": "stdout",
     "output_type": "stream",
     "text": [
      "please attend our event Thursday, April 04 in the year 2019\n"
     ]
    }
   ],
   "source": [
    "import datetime\n",
    "currentDate = datetime.date.today()\n",
    "print(currentDate.strftime('please attend our event %A, %B %d in the year %Y'))"
   ]
  },
  {
   "cell_type": "markdown",
   "metadata": {},
   "source": [
    "### calculator for dateofbirth"
   ]
  },
  {
   "cell_type": "code",
   "execution_count": 13,
   "metadata": {},
   "outputs": [
    {
     "name": "stdout",
     "output_type": "stream",
     "text": [
      "please enter your date of birth (dd/mm/yy)12/05/2019\n",
      "2019-05-12\n",
      "38\n"
     ]
    }
   ],
   "source": [
    "userInput = input('please enter your date of birth (dd/mm/yy)')\n",
    "birthday = datetime.datetime.strptime(userInput, '%d/%m/%Y').date()\n",
    "print(birthday)\n",
    "days = birthday - currentDate\n",
    "print(days.days)"
   ]
  },
  {
   "cell_type": "code",
   "execution_count": null,
   "metadata": {},
   "outputs": [],
   "source": []
  }
 ],
 "metadata": {
  "kernelspec": {
   "display_name": "Python 3",
   "language": "python",
   "name": "python3"
  },
  "language_info": {
   "codemirror_mode": {
    "name": "ipython",
    "version": 3
   },
   "file_extension": ".py",
   "mimetype": "text/x-python",
   "name": "python",
   "nbconvert_exporter": "python",
   "pygments_lexer": "ipython3",
   "version": "3.7.1"
  }
 },
 "nbformat": 4,
 "nbformat_minor": 2
}
